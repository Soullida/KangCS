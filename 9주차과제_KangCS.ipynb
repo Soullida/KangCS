{
  "nbformat": 4,
  "nbformat_minor": 0,
  "metadata": {
    "colab": {
      "name": "9주차과제_KangCS.ipynb",
      "provenance": [],
      "collapsed_sections": [],
      "include_colab_link": true
    },
    "kernelspec": {
      "name": "python3",
      "display_name": "Python 3"
    },
    "language_info": {
      "name": "python"
    }
  },
  "cells": [
    {
      "cell_type": "markdown",
      "metadata": {
        "id": "view-in-github",
        "colab_type": "text"
      },
      "source": [
        "<a href=\"https://colab.research.google.com/github/Soullida/KangCS/blob/main/9%EC%A3%BC%EC%B0%A8%EA%B3%BC%EC%A0%9C_KangCS.ipynb\" target=\"_parent\"><img src=\"https://colab.research.google.com/assets/colab-badge.svg\" alt=\"Open In Colab\"/></a>"
      ]
    },
    {
      "cell_type": "code",
      "metadata": {
        "colab": {
          "base_uri": "https://localhost:8080/"
        },
        "id": "s9pIqdb7K87g",
        "outputId": "8e03938d-20c9-4e60-9fa5-b2a0cc4ac4a5"
      },
      "source": [
        "store = {}\n",
        "print('물품과 재고량 입력')\n",
        "while True:\n",
        "  item = input('입력 물품 ==>')\n",
        "  if item == 'z':\n",
        "    break\n",
        "  count = int(input('재고량 ==>'))\n",
        "  store[item] = count\n",
        "for key in store.keys():\n",
        "  print(key, store[key])\n",
        "print('물품의 재고량 확인')\n",
        "while True:\n",
        "  item = input('찾을 물품 ==>')\n",
        "  if item == '':\n",
        "    break\n",
        "  if item in store:\n",
        "    print('물건의 갯수는', store[item], '개 남았어요')\n",
        "    item_1 = int(input('수량을 몇 개로 변경하시겠습니까'))\n",
        "    store[item] = count - item_1\n",
        "    print(store)\n",
        "  else:\n",
        "    print('그 물품은 없어요')"
      ],
      "execution_count": 1,
      "outputs": [
        {
          "name": "stdout",
          "output_type": "stream",
          "text": [
            "물품과 재고량 입력\n",
            "입력 물품 ==>도넛\n",
            "재고량 ==>50\n",
            "입력 물품 ==>햄버거\n",
            "재고량 ==>30\n",
            "입력 물품 ==>z\n",
            "도넛 50\n",
            "햄버거 30\n",
            "물품의 재고량 확인\n",
            "찾을 물품 ==>스시\n",
            "그 물품은 없어요\n",
            "찾을 물품 ==>햄버거\n",
            "물건의 갯수는 30 개 남았어요\n",
            "수량을 몇 개로 변경하시겠습니까3\n",
            "{'도넛': 50, '햄버거': 27}\n",
            "찾을 물품 ==> \n",
            "그 물품은 없어요\n",
            "찾을 물품 ==>\n"
          ]
        }
      ]
    },
    {
      "cell_type": "code",
      "source": [
        "Abc = int(input('숫자를 입력하세요: '))\n",
        "print('당신이 선택한 숫자는:',Abc ,'입니다.')"
      ],
      "metadata": {
        "colab": {
          "base_uri": "https://localhost:8080/"
        },
        "id": "SGZK0pS-bqSK",
        "outputId": "0fd2540b-da4e-408c-9c27-6bd12b6eb9c3"
      },
      "execution_count": 9,
      "outputs": [
        {
          "output_type": "stream",
          "name": "stdout",
          "text": [
            "숫자를 입력하세요: 7\n",
            "당신이 선택한 숫자는: 7 입니다.\n"
          ]
        }
      ]
    }
  ]
}