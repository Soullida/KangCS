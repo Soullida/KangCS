{
  "nbformat": 4,
  "nbformat_minor": 0,
  "metadata": {
    "colab": {
      "name": "20220110_python.ipynb",
      "provenance": [],
      "collapsed_sections": [],
      "authorship_tag": "ABX9TyPJFkzzWhcECV0fTisk6/FY",
      "include_colab_link": true
    },
    "kernelspec": {
      "name": "python3",
      "display_name": "Python 3"
    },
    "language_info": {
      "name": "python"
    }
  },
  "cells": [
    {
      "cell_type": "markdown",
      "metadata": {
        "id": "view-in-github",
        "colab_type": "text"
      },
      "source": [
        "<a href=\"https://colab.research.google.com/github/Soullida/KangCS/blob/main/20220110_python.ipynb\" target=\"_parent\"><img src=\"https://colab.research.google.com/assets/colab-badge.svg\" alt=\"Open In Colab\"/></a>"
      ]
    },
    {
      "cell_type": "markdown",
      "source": [
        "Python Slincing\n",
        "\n"
      ],
      "metadata": {
        "id": "KqPcWZR_upXZ"
      }
    },
    {
      "cell_type": "code",
      "source": [
        "import numpy as np\n",
        "a = ['one','two','three','four','five']\n",
        "a[1:] # 시작점 포함하여 슬라이싱"
      ],
      "metadata": {
        "colab": {
          "base_uri": "https://localhost:8080/"
        },
        "id": "bLxzPYLMuuIJ",
        "outputId": "d2cf9e5b-06a3-4926-a0c4-10d7fdbfea0f"
      },
      "execution_count": 9,
      "outputs": [
        {
          "output_type": "execute_result",
          "data": {
            "text/plain": [
              "['two', 'three', 'four', 'five']"
            ]
          },
          "metadata": {},
          "execution_count": 9
        }
      ]
    },
    {
      "cell_type": "code",
      "source": [
        "a[3:] "
      ],
      "metadata": {
        "colab": {
          "base_uri": "https://localhost:8080/"
        },
        "id": "pvnzFZUGxmgJ",
        "outputId": "079fbd70-059e-4a20-993f-7d88a69b554d"
      },
      "execution_count": 10,
      "outputs": [
        {
          "output_type": "execute_result",
          "data": {
            "text/plain": [
              "['four', 'five']"
            ]
          },
          "metadata": {},
          "execution_count": 10
        }
      ]
    },
    {
      "cell_type": "code",
      "source": [
        "a[-3:] # 음수는 -1부터 시작, 방향은 뒤에서부터 시작점부터 슬라이싱"
      ],
      "metadata": {
        "colab": {
          "base_uri": "https://localhost:8080/"
        },
        "id": "ZUUrpC33yDr1",
        "outputId": "8cb183ab-0998-4ca6-df71-9b23e10b300a"
      },
      "execution_count": 20,
      "outputs": [
        {
          "output_type": "execute_result",
          "data": {
            "text/plain": [
              "['three', 'four', 'five']"
            ]
          },
          "metadata": {},
          "execution_count": 20
        }
      ]
    },
    {
      "cell_type": "code",
      "source": [
        "a[:3] # 시작점 제외하고 슬라이싱 ex) 0,1,2"
      ],
      "metadata": {
        "colab": {
          "base_uri": "https://localhost:8080/"
        },
        "id": "9v9oFmPpydF9",
        "outputId": "ba655f8f-5e5b-4bc1-e6d7-b24ce0156f5a"
      },
      "execution_count": 26,
      "outputs": [
        {
          "output_type": "execute_result",
          "data": {
            "text/plain": [
              "['one', 'two', 'three']"
            ]
          },
          "metadata": {},
          "execution_count": 26
        }
      ]
    },
    {
      "cell_type": "code",
      "source": [
        "a[:-2] # 주어진 값 제외하고 앞 출력"
      ],
      "metadata": {
        "colab": {
          "base_uri": "https://localhost:8080/"
        },
        "id": "2CeOjFAGzRoC",
        "outputId": "5adc9d99-b5ae-4e1f-d0cd-3aa2a0b166e6"
      },
      "execution_count": 27,
      "outputs": [
        {
          "output_type": "execute_result",
          "data": {
            "text/plain": [
              "['one', 'two', 'three']"
            ]
          },
          "metadata": {},
          "execution_count": 27
        }
      ]
    },
    {
      "cell_type": "code",
      "source": [
        "a[:-5] # 주어진 배열보다 값을 지나치게 입력하여 출력해도 오류가 생성되지 않고 list 디폴트 값으로 출력됨"
      ],
      "metadata": {
        "colab": {
          "base_uri": "https://localhost:8080/"
        },
        "id": "RmPJygxpz0vI",
        "outputId": "f72f089e-e05c-48c6-86d0-3387f6b34f82"
      },
      "execution_count": 33,
      "outputs": [
        {
          "output_type": "execute_result",
          "data": {
            "text/plain": [
              "[]"
            ]
          },
          "metadata": {},
          "execution_count": 33
        }
      ]
    },
    {
      "cell_type": "code",
      "source": [
        "a[2:4] # 2번째 포함, 4번째 제외 앞 값 출력"
      ],
      "metadata": {
        "colab": {
          "base_uri": "https://localhost:8080/"
        },
        "id": "k_2P2oeW0I3O",
        "outputId": "7c2953d4-d53c-4dd9-92ad-6a3086c6d227"
      },
      "execution_count": 37,
      "outputs": [
        {
          "output_type": "execute_result",
          "data": {
            "text/plain": [
              "['three', 'four']"
            ]
          },
          "metadata": {},
          "execution_count": 37
        }
      ]
    },
    {
      "cell_type": "code",
      "source": [
        "a[1][0:1] # 두번째 값의 0:1 값"
      ],
      "metadata": {
        "colab": {
          "base_uri": "https://localhost:8080/",
          "height": 35
        },
        "id": "Wtdg-rALB_zF",
        "outputId": "6cf7d88a-ae64-42d5-c8b4-a31153269483"
      },
      "execution_count": 45,
      "outputs": [
        {
          "output_type": "execute_result",
          "data": {
            "application/vnd.google.colaboratory.intrinsic+json": {
              "type": "string"
            },
            "text/plain": [
              "'t'"
            ]
          },
          "metadata": {},
          "execution_count": 45
        }
      ]
    },
    {
      "cell_type": "code",
      "source": [
        "a[2][0::2] # start:end:step step만큼 문자를 건너뛰면서, 위와 동일하게 추출"
      ],
      "metadata": {
        "colab": {
          "base_uri": "https://localhost:8080/",
          "height": 35
        },
        "id": "6er0SAS-HWPO",
        "outputId": "40aa0b9b-78d1-4e88-e25c-22c4fe788112"
      },
      "execution_count": 54,
      "outputs": [
        {
          "output_type": "execute_result",
          "data": {
            "application/vnd.google.colaboratory.intrinsic+json": {
              "type": "string"
            },
            "text/plain": [
              "'tre'"
            ]
          },
          "metadata": {},
          "execution_count": 54
        }
      ]
    },
    {
      "cell_type": "markdown",
      "source": [
        "Python list value access and exchange"
      ],
      "metadata": {
        "id": "Czw8GK4fHyjw"
      }
    },
    {
      "cell_type": "code",
      "source": [
        "# a.append() : 리스트 맨 끝의 항목에 추가하기 \n",
        "# a.insert() : 리스트 중간에 원하는 위치(index)에 값을 추가하기\n",
        "# del a[] : 인덱스를 이용하여 삭제를 원하는 위치의 값을 삭제하기\n",
        "# a.remove() : 저장되어 있는 값을 불러서 삭제하기\n",
        "# b = a.pop() => b = ['five'] a = ['one','two','three','four'] # pop() 아무것도 쓰지 않으면 맨 마지막 값을 반환하고 리스트에서 삭제"
      ],
      "metadata": {
        "id": "7IST1tGjH51O"
      },
      "execution_count": null,
      "outputs": []
    },
    {
      "cell_type": "markdown",
      "source": [
        "Python list 결합 및 연산, index(), in 문법 사용"
      ],
      "metadata": {
        "id": "yj0xdHRnLXN0"
      }
    },
    {
      "cell_type": "code",
      "source": [
        "# a = ['one','two','three','four']\n",
        "# b = ['one','two','three']\n",
        "# c = a + b\n",
        "# print(c) -> ['one', 'two', 'three', 'four', 'one', 'two', 'three'] 중복 값 상관 없이 연산된다.\n",
        "\n",
        "# cout = c.index('three') \n",
        "# print(cout) # 맨 처음 three의 순서 값 출력\n",
        "\n",
        "# 찾고자 하는 값 in 자료 구조(리스트)\n",
        "# find_c = 'five'\n",
        "# result = find_c('five'도 입력 가능) in c\n",
        "# print(result) -> False\n",
        "# result = 'one' in c\n",
        "# print(result) -> True"
      ],
      "metadata": {
        "colab": {
          "base_uri": "https://localhost:8080/"
        },
        "id": "_mV9ahZ9Le8w",
        "outputId": "9074b28f-7baa-47e0-9fe1-672f2422ed39"
      },
      "execution_count": 71,
      "outputs": [
        {
          "output_type": "stream",
          "name": "stdout",
          "text": [
            "False\n"
          ]
        }
      ]
    },
    {
      "cell_type": "code",
      "source": [
        "text = '파이썬 수업 진짜 좋아요. 파이썬 고수가 되고 싶어요!'\n",
        "print(len(text))\n",
        "print(text[3:10])  # 문자열 슬라이싱"
      ],
      "metadata": {
        "colab": {
          "base_uri": "https://localhost:8080/"
        },
        "id": "GNSfvHd8TDTp",
        "outputId": "b9e62833-7c83-4fd6-873d-49b7d53fea31"
      },
      "execution_count": 75,
      "outputs": [
        {
          "output_type": "stream",
          "name": "stdout",
          "text": [
            "30\n"
          ]
        }
      ]
    },
    {
      "cell_type": "code",
      "source": [
        "input = '20211225Snow'\n",
        "output = '2021년 12월 25일 날씨:Snow'\n",
        "a = input[0:4]\n",
        "print(a)\n",
        "b = input[4:8]\n",
        "print(b)\n",
        "c = input[6:8]\n",
        "d = input[8:]\n",
        "print(a+'년 '+b+'월 '+c+'일', '날씨:'+d)"
      ],
      "metadata": {
        "colab": {
          "base_uri": "https://localhost:8080/"
        },
        "id": "RzjM_7SzTXhg",
        "outputId": "04c8ac09-319b-4473-8e97-b5683c3f9afd"
      },
      "execution_count": 77,
      "outputs": [
        {
          "output_type": "stream",
          "name": "stdout",
          "text": [
            "2021\n",
            "1225\n",
            "2021년 1225월 25일 날씨:Snow\n"
          ]
        }
      ]
    },
    {
      "cell_type": "code",
      "source": [
        "print('I eat %d Sushi' %3) # int는 %d를 이용하여 포맷팅\n",
        "number = 3\n",
        "print('I eat %d Sushi' %number)"
      ],
      "metadata": {
        "colab": {
          "base_uri": "https://localhost:8080/"
        },
        "id": "hjswueYUTvLq",
        "outputId": "eb2e3e60-20fa-4767-ebd1-3d94569ad5a9"
      },
      "execution_count": 78,
      "outputs": [
        {
          "output_type": "stream",
          "name": "stdout",
          "text": [
            "I eat 3 Sushi\n",
            "I eat 3 Sushi\n"
          ]
        }
      ]
    },
    {
      "cell_type": "code",
      "source": [
        "text = 'five'\n",
        "print('I eat %s Sushi' %text) # str은 %d가 아닌 %s를 이용하여 포맷팅\n",
        "number = 3\n",
        "print('I eat %d Sushi and %d Seafood' %(number, number)) \n",
        "print('I eat %d Sushi and %s Seafood' %(number, text))"
      ],
      "metadata": {
        "colab": {
          "base_uri": "https://localhost:8080/"
        },
        "id": "h2chVi21T32u",
        "outputId": "633d8216-221b-4ec0-a4a4-38e78a88532b"
      },
      "execution_count": 79,
      "outputs": [
        {
          "output_type": "stream",
          "name": "stdout",
          "text": [
            "I eat five Sushi\n",
            "I eat 3 Sushi and 3 Seafood\n",
            "I eat 3 Sushi and five Seafood\n"
          ]
        }
      ]
    },
    {
      "cell_type": "code",
      "source": [
        "print('I got 4.5  score of Python')\n",
        "print('I got %f score of Python' %4.5)\n",
        "print('I got %0.1f score of Python' %4.5)\n",
        "print('--------------------------------------------')\n",
        "'I got {0} score of Python'.format('four point five')\n",
        "print('I got {0} score of Python'.format('four point five'))"
      ],
      "metadata": {
        "colab": {
          "base_uri": "https://localhost:8080/"
        },
        "id": "SaMJwiuYWAy9",
        "outputId": "6ff411db-b9f9-4887-fca4-444b8d827a0a"
      },
      "execution_count": 80,
      "outputs": [
        {
          "output_type": "stream",
          "name": "stdout",
          "text": [
            "I got 4.5  score of Python\n",
            "I got 4.500000 score of Python\n",
            "I got 4.5 score of Python\n",
            "--------------------------------------------\n",
            "I got four point five score of Python\n"
          ]
        }
      ]
    },
    {
      "cell_type": "code",
      "source": [
        "a = 'I got {0} score of Python'\n",
        "b = a.format('four point five')\n",
        "print(b)"
      ],
      "metadata": {
        "colab": {
          "base_uri": "https://localhost:8080/"
        },
        "id": "LP8cwEnyWSuQ",
        "outputId": "c78f5b99-e8a7-4d76-a113-b2b7676d8d27"
      },
      "execution_count": 81,
      "outputs": [
        {
          "output_type": "stream",
          "name": "stdout",
          "text": [
            "I got four point five score of Python\n"
          ]
        }
      ]
    },
    {
      "cell_type": "code",
      "source": [
        "a = 'I got {0}, {1} score of Python'\n",
        "print(a)\n",
        "b = a.format('four point five','A')\n",
        "print(b)"
      ],
      "metadata": {
        "colab": {
          "base_uri": "https://localhost:8080/"
        },
        "id": "PAgoVj99WbQQ",
        "outputId": "5bd99cc2-aaef-4d55-9c59-9341196309c3"
      },
      "execution_count": 82,
      "outputs": [
        {
          "output_type": "stream",
          "name": "stdout",
          "text": [
            "I got {0}, {1} score of Python\n",
            "I got four point five, A score of Python\n"
          ]
        }
      ]
    },
    {
      "cell_type": "code",
      "source": [
        "a = 'I got {score}, {grade} score of Python'\n",
        "b = a.format(score = '4.5', grade = 'A') # 변수형태로 넣고 변수를 정해주는 것\n",
        "print(b)"
      ],
      "metadata": {
        "colab": {
          "base_uri": "https://localhost:8080/"
        },
        "id": "9gQhj_LqWeOF",
        "outputId": "ff5944f6-28d7-43c7-faf9-7d9aa2846a6a"
      },
      "execution_count": 83,
      "outputs": [
        {
          "output_type": "stream",
          "name": "stdout",
          "text": [
            "I got 4.5, A score of Python\n"
          ]
        }
      ]
    },
    {
      "cell_type": "code",
      "source": [
        "name = '강창석'\n",
        "age = int('31')\n",
        "print(f'내 이름은 {name}이라고 해. 나는 먹는걸 좋아하고 나이는 {age+1}이야.')"
      ],
      "metadata": {
        "colab": {
          "base_uri": "https://localhost:8080/"
        },
        "id": "TfXybp3kWoRN",
        "outputId": "b9c6fb95-74fd-42ac-bab0-c5ed8615b190"
      },
      "execution_count": 84,
      "outputs": [
        {
          "output_type": "stream",
          "name": "stdout",
          "text": [
            "내 이름은 강창석이라고 해. 나는 먹는걸 좋아하고 나이는 32이야.\n"
          ]
        }
      ]
    },
    {
      "cell_type": "code",
      "source": [
        "a = '스시에 소주. 치킨에 양주. 삼겹에 소맥'\n",
        "a.count('소주') # 몇 개 나오는지 세어주는 count 함수\n",
        "print(a.count('소주')) \n",
        "a.find('삼겹') # find 함수가 무엇이지\n",
        "print(a.find('삼겹'))"
      ],
      "metadata": {
        "colab": {
          "base_uri": "https://localhost:8080/"
        },
        "id": "G0yeI-u1W0R3",
        "outputId": "aece8d59-771e-4881-c080-2f3c79952fc2"
      },
      "execution_count": 86,
      "outputs": [
        {
          "output_type": "stream",
          "name": "stdout",
          "text": [
            "1\n",
            "16\n"
          ]
        }
      ]
    },
    {
      "cell_type": "code",
      "source": [
        "a = 'I like Python'\n",
        "a.replace('Python', 'Sushi')\n",
        "print(a.replace('Python', 'Sushi'))"
      ],
      "metadata": {
        "colab": {
          "base_uri": "https://localhost:8080/"
        },
        "id": "YenEyhkbXEU9",
        "outputId": "989fb45a-6f4b-4d66-c760-a6551328d5c5"
      },
      "execution_count": 87,
      "outputs": [
        {
          "output_type": "stream",
          "name": "stdout",
          "text": [
            "I like Sushi\n"
          ]
        }
      ]
    },
    {
      "cell_type": "code",
      "source": [
        "a = 'I like Python. I love Python'\n",
        "a.split()\n",
        "print(a.split()) # 어떤 것을 기준으로 문장을 쪼개는 것\n",
        "a.split(sep='.')\n",
        "print(a.split(sep='.'))"
      ],
      "metadata": {
        "colab": {
          "base_uri": "https://localhost:8080/"
        },
        "id": "vBMrwM7_XHWo",
        "outputId": "7371712d-5df8-4e1c-efb1-034d5da19403"
      },
      "execution_count": 88,
      "outputs": [
        {
          "output_type": "stream",
          "name": "stdout",
          "text": [
            "['I', 'like', 'Python.', 'I', 'love', 'Python']\n",
            "['I like Python', ' I love Python']\n"
          ]
        }
      ]
    },
    {
      "cell_type": "code",
      "source": [
        "print('My name is * str(5)')\n",
        "print('My name is ' + 'str(5)')\n",
        "print('My name is ' + str(5))"
      ],
      "metadata": {
        "colab": {
          "base_uri": "https://localhost:8080/"
        },
        "id": "_RcVp5q5XXao",
        "outputId": "f6a7b530-aef2-4bdb-9e0f-dc8567150e9b"
      },
      "execution_count": 91,
      "outputs": [
        {
          "output_type": "stream",
          "name": "stdout",
          "text": [
            "My name is * str(5)\n",
            "My name is str(5)\n",
            "My name is 5\n"
          ]
        }
      ]
    },
    {
      "cell_type": "code",
      "source": [
        "print(type('5'))\n",
        "print(type(int('5')))"
      ],
      "metadata": {
        "colab": {
          "base_uri": "https://localhost:8080/"
        },
        "id": "rBHE_r0IXdyV",
        "outputId": "95b0c193-43de-473f-da3a-91213f99f611"
      },
      "execution_count": 94,
      "outputs": [
        {
          "output_type": "stream",
          "name": "stdout",
          "text": [
            "<class 'str'>\n",
            "<class 'int'>\n"
          ]
        }
      ]
    },
    {
      "cell_type": "code",
      "source": [
        "#python_score = int(input('파이썬 과목에서 획득한 점수를 입력하세요: '))\n",
        "score = int(input('운전면허 필기 점수를 입력하세요: '))\n",
        "print(score >= 70)"
      ],
      "metadata": {
        "colab": {
          "base_uri": "https://localhost:8080/",
          "height": 209
        },
        "id": "cDzlvlPKXsdB",
        "outputId": "f2a3198b-167f-4a42-c0e5-6aec2be4a8c2"
      },
      "execution_count": 101,
      "outputs": [
        {
          "output_type": "error",
          "ename": "TypeError",
          "evalue": "ignored",
          "traceback": [
            "\u001b[0;31m---------------------------------------------------------------------------\u001b[0m",
            "\u001b[0;31mTypeError\u001b[0m                                 Traceback (most recent call last)",
            "\u001b[0;32m<ipython-input-101-32a2794e1cc3>\u001b[0m in \u001b[0;36m<module>\u001b[0;34m()\u001b[0m\n\u001b[1;32m      1\u001b[0m \u001b[0;31m#python_score = int(input('파이썬 과목에서 획득한 점수를 입력하세요: '))\u001b[0m\u001b[0;34m\u001b[0m\u001b[0;34m\u001b[0m\u001b[0;34m\u001b[0m\u001b[0m\n\u001b[0;32m----> 2\u001b[0;31m \u001b[0mscore\u001b[0m \u001b[0;34m=\u001b[0m \u001b[0mstr\u001b[0m\u001b[0;34m(\u001b[0m\u001b[0minput\u001b[0m\u001b[0;34m(\u001b[0m\u001b[0;34m'운전면허 필기 점수를 입력하세요: '\u001b[0m\u001b[0;34m)\u001b[0m\u001b[0;34m)\u001b[0m\u001b[0;34m\u001b[0m\u001b[0;34m\u001b[0m\u001b[0m\n\u001b[0m\u001b[1;32m      3\u001b[0m \u001b[0mprint\u001b[0m\u001b[0;34m(\u001b[0m\u001b[0mscore\u001b[0m \u001b[0;34m>=\u001b[0m \u001b[0;36m70\u001b[0m\u001b[0;34m)\u001b[0m\u001b[0;34m\u001b[0m\u001b[0;34m\u001b[0m\u001b[0m\n",
            "\u001b[0;31mTypeError\u001b[0m: 'str' object is not callable"
          ]
        }
      ]
    },
    {
      "cell_type": "code",
      "source": [
        "num1 = int(input('첫번째 수: '))\n",
        "num2 = int(input('두번째 수: '))\n",
        "print(num1//num2)"
      ],
      "metadata": {
        "colab": {
          "base_uri": "https://localhost:8080/",
          "height": 172
        },
        "id": "e5h9V_aaYUXL",
        "outputId": "77f03c1c-acd4-4f5f-dd57-f6c8c42aeca8"
      },
      "execution_count": 103,
      "outputs": [
        {
          "output_type": "error",
          "ename": "TypeError",
          "evalue": "ignored",
          "traceback": [
            "\u001b[0;31m---------------------------------------------------------------------------\u001b[0m",
            "\u001b[0;31mTypeError\u001b[0m                                 Traceback (most recent call last)",
            "\u001b[0;32m<ipython-input-103-d00a73a3df8c>\u001b[0m in \u001b[0;36m<module>\u001b[0;34m()\u001b[0m\n\u001b[0;32m----> 1\u001b[0;31m \u001b[0mnum1\u001b[0m \u001b[0;34m=\u001b[0m \u001b[0mint\u001b[0m\u001b[0;34m(\u001b[0m\u001b[0minput\u001b[0m\u001b[0;34m(\u001b[0m\u001b[0;34m'첫번째 수: '\u001b[0m\u001b[0;34m)\u001b[0m\u001b[0;34m)\u001b[0m\u001b[0;34m\u001b[0m\u001b[0;34m\u001b[0m\u001b[0m\n\u001b[0m",
            "\u001b[0;31mTypeError\u001b[0m: 'str' object is not callable"
          ]
        }
      ]
    },
    {
      "cell_type": "code",
      "source": [
        "from datetime import datetime\n",
        "import pandas as pd\n",
        "def df_maker(col_num, ind_num, fill):\n",
        "    col=[]\n",
        "    ind=[]\n",
        "    con=[]\n",
        "    for i in range(0,col_num):\n",
        "        col.append(fill)\n",
        "    for i in range(0,ind_num):\n",
        "        ind.append(fill)\n",
        "    for i in range(0,ind_num):\n",
        "        con.append(col)\n",
        "    return pd.DataFrame(con, columns=col, index=ind)\n",
        "df=df_maker(6,2,0)\n",
        "col = ['coffee','gimbap','banana_milk','lunch_box','coke','shrimp_cracker']\n",
        "ind = ['buy','sell']\n",
        "df.columns = col\n",
        "df.index = ind\n",
        "\n",
        "df['coffee'] = [500,1800]\n",
        "df['gimbap'] = [900,1400]\n",
        "df['banana_milk'] = [800,1800]\n",
        "df['lunch_box'] = [3500,4000]\n",
        "df['coke'] = [700,1500]\n",
        "df['shrimp_cracker'] = [1000,2000]\n",
        "print(df)"
      ],
      "metadata": {
        "colab": {
          "base_uri": "https://localhost:8080/"
        },
        "id": "ymZg8CSEY_4L",
        "outputId": "4eeb8b93-97a7-48fe-fea5-2475f01f96fb"
      },
      "execution_count": 105,
      "outputs": [
        {
          "output_type": "stream",
          "name": "stdout",
          "text": [
            "      coffee  gimbap  banana_milk  lunch_box  coke  shrimp_cracker\n",
            "buy      500     900          800       3500   700            1000\n",
            "sell    1800    1400         1800       4000  1500            2000\n"
          ]
        }
      ]
    }
  ]
}